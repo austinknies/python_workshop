{
 "cells": [
  {
   "cell_type": "markdown",
   "id": "d6c653f3-a242-40c2-af3e-02b25f3bba61",
   "metadata": {},
   "source": [
    "## Variables and Data Types\n",
    "\n",
    "In this section, I cover defining variables in Python."
   ]
  },
  {
   "cell_type": "code",
   "execution_count": 14,
   "id": "181c42e4-4e8e-4143-9a4d-97eaa8e72669",
   "metadata": {},
   "outputs": [],
   "source": [
    "anInt = 2\n",
    "aFloat = 5.0\n",
    "aString = 'hello'\n",
    "aList = [1,2,3]\n",
    "aDict = {'joe':5, 'wally':2}"
   ]
  },
  {
   "cell_type": "code",
   "execution_count": 11,
   "id": "9378954f-69eb-44d0-a5e6-b3e5c24b8383",
   "metadata": {},
   "outputs": [
    {
     "name": "stdout",
     "output_type": "stream",
     "text": [
      "2\n"
     ]
    }
   ],
   "source": [
    "print(anInt)"
   ]
  },
  {
   "cell_type": "code",
   "execution_count": 12,
   "id": "4c78d6c4-57ec-4407-b470-d84010e831a2",
   "metadata": {},
   "outputs": [
    {
     "data": {
      "text/plain": [
       "float"
      ]
     },
     "execution_count": 12,
     "metadata": {},
     "output_type": "execute_result"
    }
   ],
   "source": [
    "type(aFloat)"
   ]
  },
  {
   "cell_type": "code",
   "execution_count": 15,
   "id": "85810204-de83-4da3-bdbb-f3dc7a06956b",
   "metadata": {},
   "outputs": [
    {
     "data": {
      "text/plain": [
       "str"
      ]
     },
     "execution_count": 15,
     "metadata": {},
     "output_type": "execute_result"
    }
   ],
   "source": [
    "type(aString)"
   ]
  },
  {
   "cell_type": "code",
   "execution_count": 16,
   "id": "72cb5d68-9177-4bfe-98cc-3885bd08bec7",
   "metadata": {},
   "outputs": [
    {
     "data": {
      "text/plain": [
       "dict"
      ]
     },
     "execution_count": 16,
     "metadata": {},
     "output_type": "execute_result"
    }
   ],
   "source": [
    "type(aDict)"
   ]
  },
  {
   "cell_type": "code",
   "execution_count": 17,
   "id": "047f146e-325d-48f9-9bb4-128b527517ac",
   "metadata": {},
   "outputs": [
    {
     "name": "stdout",
     "output_type": "stream",
     "text": [
      "{'joe': 5, 'wally': 2}\n"
     ]
    }
   ],
   "source": [
    "print(aDict)"
   ]
  },
  {
   "cell_type": "markdown",
   "id": "25bfd382-ca97-481b-88e4-2f2164c35553",
   "metadata": {},
   "source": [
    "## Modules\n",
    "\n",
    "Here we use two built-in Python modules: os and math"
   ]
  },
  {
   "cell_type": "code",
   "execution_count": 30,
   "id": "bfd589de-eae3-4f66-8be2-0d0b901c2b15",
   "metadata": {},
   "outputs": [],
   "source": [
    "import math"
   ]
  },
  {
   "cell_type": "code",
   "execution_count": 19,
   "id": "a762b339-28ad-4841-9d74-78054fb4cf1d",
   "metadata": {},
   "outputs": [
    {
     "name": "stdout",
     "output_type": "stream",
     "text": [
      "3.141592653589793\n"
     ]
    }
   ],
   "source": [
    "print(math.pi)"
   ]
  },
  {
   "cell_type": "code",
   "execution_count": 20,
   "id": "84a3ece5-e5d6-449c-bfe5-653f555f3132",
   "metadata": {},
   "outputs": [],
   "source": [
    "import os"
   ]
  },
  {
   "cell_type": "code",
   "execution_count": 21,
   "id": "4b198c87-d2e0-433b-8b0e-24e776cdf57d",
   "metadata": {},
   "outputs": [
    {
     "data": {
      "text/plain": [
       "'C:\\\\Users\\\\austi\\\\Documents\\\\Python\\\\python_workshop'"
      ]
     },
     "execution_count": 21,
     "metadata": {},
     "output_type": "execute_result"
    }
   ],
   "source": [
    "os.getcwd()"
   ]
  },
  {
   "cell_type": "markdown",
   "id": "21caee28-6c32-435b-8359-aee8cb3b0767",
   "metadata": {},
   "source": [
    "You could also important these modules by saying the following:"
   ]
  },
  {
   "cell_type": "raw",
   "id": "28669f1c-b2d6-41e4-89a5-89a7e2647795",
   "metadata": {},
   "source": [
    "import math, os"
   ]
  },
  {
   "cell_type": "markdown",
   "id": "db30bd22-9ff2-4644-a305-82c50b242b3b",
   "metadata": {},
   "source": [
    "## Python as Calculator"
   ]
  },
  {
   "cell_type": "code",
   "execution_count": 23,
   "id": "24df9791-ad4a-4db7-9847-723c117ff646",
   "metadata": {},
   "outputs": [
    {
     "data": {
      "text/plain": [
       "4"
      ]
     },
     "execution_count": 23,
     "metadata": {},
     "output_type": "execute_result"
    }
   ],
   "source": [
    "2+2"
   ]
  },
  {
   "cell_type": "code",
   "execution_count": 25,
   "id": "2c6ef0b6-953d-42a9-8c23-610ed15ada63",
   "metadata": {},
   "outputs": [
    {
     "data": {
      "text/plain": [
       "44"
      ]
     },
     "execution_count": 25,
     "metadata": {},
     "output_type": "execute_result"
    }
   ],
   "source": [
    "83-39"
   ]
  },
  {
   "cell_type": "code",
   "execution_count": 27,
   "id": "f1625926-a783-47fc-991d-999639ecbbd3",
   "metadata": {},
   "outputs": [
    {
     "name": "stdout",
     "output_type": "stream",
     "text": [
      "9\n"
     ]
    }
   ],
   "source": [
    "product = 3*3\n",
    "print(product)"
   ]
  },
  {
   "cell_type": "code",
   "execution_count": 29,
   "id": "8464e2f9-1723-431d-92bf-9c7c61f51b19",
   "metadata": {},
   "outputs": [
    {
     "data": {
      "text/plain": [
       "2.0"
      ]
     },
     "execution_count": 29,
     "metadata": {},
     "output_type": "execute_result"
    }
   ],
   "source": [
    "a = 50\n",
    "b = 25\n",
    "a/b"
   ]
  },
  {
   "cell_type": "code",
   "execution_count": 31,
   "id": "5ef2ed04-dbc5-43c7-bcd8-29cada1d53d7",
   "metadata": {},
   "outputs": [
    {
     "name": "stdout",
     "output_type": "stream",
     "text": [
      "2500\n"
     ]
    }
   ],
   "source": [
    "asquared = a**2\n",
    "print(asquared)"
   ]
  },
  {
   "cell_type": "markdown",
   "id": "a89373de-21f8-42a5-a77e-b4c7997340dd",
   "metadata": {},
   "source": [
    "## List \n",
    "\n",
    "A list is an ordered set of objects."
   ]
  },
  {
   "cell_type": "code",
   "execution_count": 33,
   "id": "7cee6c1a-64f3-4639-a9a9-2ad410ae773d",
   "metadata": {},
   "outputs": [],
   "source": [
    "ints = [1,2,3,4]\n",
    "reals = [1,2,3,4,5]\n",
    "strings = ['h', 'e', 'l', 'l', 'o']\n",
    "combo = [1, 'h', 2, 'l', 3]"
   ]
  },
  {
   "cell_type": "code",
   "execution_count": 34,
   "id": "f9aea0e0-d1be-43ee-86e7-b8cfd7f4d782",
   "metadata": {},
   "outputs": [
    {
     "name": "stdout",
     "output_type": "stream",
     "text": [
      "1\n",
      "4\n"
     ]
    }
   ],
   "source": [
    "print(ints[0])\n",
    "print(ints[3])"
   ]
  },
  {
   "cell_type": "code",
   "execution_count": 35,
   "id": "e6aa2b4e-2bf9-4ce2-8655-b50edbed68ec",
   "metadata": {},
   "outputs": [
    {
     "name": "stdout",
     "output_type": "stream",
     "text": [
      "4\n"
     ]
    }
   ],
   "source": [
    "print(ints[-1]) # always prints the last element of your list"
   ]
  },
  {
   "cell_type": "code",
   "execution_count": 46,
   "id": "5003fcf0-2b7e-4456-b276-3f1e3be4899d",
   "metadata": {},
   "outputs": [
    {
     "name": "stdout",
     "output_type": "stream",
     "text": [
      "[2, 3]\n",
      "[1, 2]\n",
      "[1, 2]\n",
      "[3, 4]\n"
     ]
    }
   ],
   "source": [
    "# splicing\n",
    "print(ints[1:3]) # only gets second and third objects of our list\n",
    "print(ints[:2]) # everything up to the index 2\n",
    "print(ints[0:2]) # same thing effectively\n",
    "print(ints[2:100]) # don't need to put in right range to get output, no error here"
   ]
  },
  {
   "cell_type": "code",
   "execution_count": 47,
   "id": "9887ee95-8243-4715-a190-29b5b7711a8b",
   "metadata": {},
   "outputs": [
    {
     "name": "stdout",
     "output_type": "stream",
     "text": [
      "[1, 2, 3, 4, 5]\n"
     ]
    }
   ],
   "source": [
    "ints.append(5)\n",
    "print(ints)"
   ]
  },
  {
   "cell_type": "code",
   "execution_count": 48,
   "id": "f683ad62-c537-4cfb-a816-f22cf0698a92",
   "metadata": {},
   "outputs": [
    {
     "name": "stdout",
     "output_type": "stream",
     "text": [
      "[1, 2, 3, 4]\n"
     ]
    }
   ],
   "source": [
    "lastItem = ints.pop() # removes last item in list\n",
    "print(ints)"
   ]
  },
  {
   "cell_type": "code",
   "execution_count": 49,
   "id": "8fb6f03d-45ed-46ac-89c8-60e7b79bfa39",
   "metadata": {},
   "outputs": [
    {
     "name": "stdout",
     "output_type": "stream",
     "text": [
      "5\n"
     ]
    }
   ],
   "source": [
    "print(lastItem)"
   ]
  },
  {
   "cell_type": "code",
   "execution_count": 53,
   "id": "7f84029a-69a6-4f91-915d-dcfb7f14699e",
   "metadata": {},
   "outputs": [
    {
     "name": "stdout",
     "output_type": "stream",
     "text": [
      "1\n",
      "2\n",
      "3\n",
      "4\n",
      "[1, 2, 3, 4]\n"
     ]
    }
   ],
   "source": [
    "for i in ints:\n",
    "    print(i)\n",
    "print(ints)"
   ]
  }
 ],
 "metadata": {
  "kernelspec": {
   "display_name": "Python 3 (ipykernel)",
   "language": "python",
   "name": "python3"
  },
  "language_info": {
   "codemirror_mode": {
    "name": "ipython",
    "version": 3
   },
   "file_extension": ".py",
   "mimetype": "text/x-python",
   "name": "python",
   "nbconvert_exporter": "python",
   "pygments_lexer": "ipython3",
   "version": "3.9.5"
  }
 },
 "nbformat": 4,
 "nbformat_minor": 5
}
