{
 "cells": [
  {
   "cell_type": "markdown",
   "id": "d6c653f3-a242-40c2-af3e-02b25f3bba61",
   "metadata": {},
   "source": [
    "## Variables and Data Types\n",
    "\n",
    "In this section, I cover defining variables in Python."
   ]
  },
  {
   "cell_type": "code",
   "execution_count": 14,
   "id": "181c42e4-4e8e-4143-9a4d-97eaa8e72669",
   "metadata": {},
   "outputs": [],
   "source": [
    "anInt = 2\n",
    "aFloat = 5.0\n",
    "aString = 'hello'\n",
    "aList = [1,2,3]\n",
    "aDict = {'joe':5, 'wally':2}"
   ]
  },
  {
   "cell_type": "code",
   "execution_count": 11,
   "id": "9378954f-69eb-44d0-a5e6-b3e5c24b8383",
   "metadata": {},
   "outputs": [
    {
     "name": "stdout",
     "output_type": "stream",
     "text": [
      "2\n"
     ]
    }
   ],
   "source": [
    "print(anInt)"
   ]
  },
  {
   "cell_type": "code",
   "execution_count": 12,
   "id": "4c78d6c4-57ec-4407-b470-d84010e831a2",
   "metadata": {},
   "outputs": [
    {
     "data": {
      "text/plain": [
       "float"
      ]
     },
     "execution_count": 12,
     "metadata": {},
     "output_type": "execute_result"
    }
   ],
   "source": [
    "type(aFloat)"
   ]
  },
  {
   "cell_type": "code",
   "execution_count": 15,
   "id": "85810204-de83-4da3-bdbb-f3dc7a06956b",
   "metadata": {},
   "outputs": [
    {
     "data": {
      "text/plain": [
       "str"
      ]
     },
     "execution_count": 15,
     "metadata": {},
     "output_type": "execute_result"
    }
   ],
   "source": [
    "type(aString)"
   ]
  },
  {
   "cell_type": "code",
   "execution_count": 16,
   "id": "72cb5d68-9177-4bfe-98cc-3885bd08bec7",
   "metadata": {},
   "outputs": [
    {
     "data": {
      "text/plain": [
       "dict"
      ]
     },
     "execution_count": 16,
     "metadata": {},
     "output_type": "execute_result"
    }
   ],
   "source": [
    "type(aDict)"
   ]
  },
  {
   "cell_type": "code",
   "execution_count": 17,
   "id": "047f146e-325d-48f9-9bb4-128b527517ac",
   "metadata": {},
   "outputs": [
    {
     "name": "stdout",
     "output_type": "stream",
     "text": [
      "{'joe': 5, 'wally': 2}\n"
     ]
    }
   ],
   "source": [
    "print(aDict)"
   ]
  },
  {
   "cell_type": "markdown",
   "id": "25bfd382-ca97-481b-88e4-2f2164c35553",
   "metadata": {},
   "source": [
    "## Modules\n",
    "\n",
    "Here we use two built-in Python modules: os and math"
   ]
  },
  {
   "cell_type": "code",
   "execution_count": 30,
   "id": "bfd589de-eae3-4f66-8be2-0d0b901c2b15",
   "metadata": {},
   "outputs": [],
   "source": [
    "import math"
   ]
  },
  {
   "cell_type": "code",
   "execution_count": 19,
   "id": "a762b339-28ad-4841-9d74-78054fb4cf1d",
   "metadata": {},
   "outputs": [
    {
     "name": "stdout",
     "output_type": "stream",
     "text": [
      "3.141592653589793\n"
     ]
    }
   ],
   "source": [
    "print(math.pi)"
   ]
  },
  {
   "cell_type": "code",
   "execution_count": 20,
   "id": "84a3ece5-e5d6-449c-bfe5-653f555f3132",
   "metadata": {},
   "outputs": [],
   "source": [
    "import os"
   ]
  },
  {
   "cell_type": "code",
   "execution_count": 21,
   "id": "4b198c87-d2e0-433b-8b0e-24e776cdf57d",
   "metadata": {},
   "outputs": [
    {
     "data": {
      "text/plain": [
       "'C:\\\\Users\\\\austi\\\\Documents\\\\Python\\\\python_workshop'"
      ]
     },
     "execution_count": 21,
     "metadata": {},
     "output_type": "execute_result"
    }
   ],
   "source": [
    "os.getcwd()"
   ]
  },
  {
   "cell_type": "markdown",
   "id": "21caee28-6c32-435b-8359-aee8cb3b0767",
   "metadata": {},
   "source": [
    "You could also important these modules by saying the following:"
   ]
  },
  {
   "cell_type": "raw",
   "id": "28669f1c-b2d6-41e4-89a5-89a7e2647795",
   "metadata": {},
   "source": [
    "import math, os"
   ]
  },
  {
   "cell_type": "markdown",
   "id": "db30bd22-9ff2-4644-a305-82c50b242b3b",
   "metadata": {},
   "source": [
    "## Python as Calculator"
   ]
  },
  {
   "cell_type": "code",
   "execution_count": 23,
   "id": "24df9791-ad4a-4db7-9847-723c117ff646",
   "metadata": {},
   "outputs": [
    {
     "data": {
      "text/plain": [
       "4"
      ]
     },
     "execution_count": 23,
     "metadata": {},
     "output_type": "execute_result"
    }
   ],
   "source": [
    "2+2"
   ]
  },
  {
   "cell_type": "code",
   "execution_count": 25,
   "id": "2c6ef0b6-953d-42a9-8c23-610ed15ada63",
   "metadata": {},
   "outputs": [
    {
     "data": {
      "text/plain": [
       "44"
      ]
     },
     "execution_count": 25,
     "metadata": {},
     "output_type": "execute_result"
    }
   ],
   "source": [
    "83-39"
   ]
  },
  {
   "cell_type": "code",
   "execution_count": 27,
   "id": "f1625926-a783-47fc-991d-999639ecbbd3",
   "metadata": {},
   "outputs": [
    {
     "name": "stdout",
     "output_type": "stream",
     "text": [
      "9\n"
     ]
    }
   ],
   "source": [
    "product = 3*3\n",
    "print(product)"
   ]
  },
  {
   "cell_type": "code",
   "execution_count": 29,
   "id": "8464e2f9-1723-431d-92bf-9c7c61f51b19",
   "metadata": {},
   "outputs": [
    {
     "data": {
      "text/plain": [
       "2.0"
      ]
     },
     "execution_count": 29,
     "metadata": {},
     "output_type": "execute_result"
    }
   ],
   "source": [
    "a = 50\n",
    "b = 25\n",
    "a/b"
   ]
  },
  {
   "cell_type": "code",
   "execution_count": 31,
   "id": "5ef2ed04-dbc5-43c7-bcd8-29cada1d53d7",
   "metadata": {},
   "outputs": [
    {
     "name": "stdout",
     "output_type": "stream",
     "text": [
      "2500\n"
     ]
    }
   ],
   "source": [
    "asquared = a**2\n",
    "print(asquared)"
   ]
  },
  {
   "cell_type": "markdown",
   "id": "a89373de-21f8-42a5-a77e-b4c7997340dd",
   "metadata": {},
   "source": [
    "## List \n",
    "\n",
    "A list is an ordered set of objects."
   ]
  },
  {
   "cell_type": "code",
   "execution_count": 33,
   "id": "7cee6c1a-64f3-4639-a9a9-2ad410ae773d",
   "metadata": {},
   "outputs": [],
   "source": [
    "ints = [1,2,3,4]\n",
    "reals = [1,2,3,4,5]\n",
    "strings = ['h', 'e', 'l', 'l', 'o']\n",
    "combo = [1, 'h', 2, 'l', 3]"
   ]
  },
  {
   "cell_type": "code",
   "execution_count": 34,
   "id": "f9aea0e0-d1be-43ee-86e7-b8cfd7f4d782",
   "metadata": {},
   "outputs": [
    {
     "name": "stdout",
     "output_type": "stream",
     "text": [
      "1\n",
      "4\n"
     ]
    }
   ],
   "source": [
    "print(ints[0])\n",
    "print(ints[3])"
   ]
  },
  {
   "cell_type": "code",
   "execution_count": 35,
   "id": "e6aa2b4e-2bf9-4ce2-8655-b50edbed68ec",
   "metadata": {},
   "outputs": [
    {
     "name": "stdout",
     "output_type": "stream",
     "text": [
      "4\n"
     ]
    }
   ],
   "source": [
    "print(ints[-1]) # always prints the last element of your list"
   ]
  },
  {
   "cell_type": "code",
   "execution_count": 46,
   "id": "5003fcf0-2b7e-4456-b276-3f1e3be4899d",
   "metadata": {},
   "outputs": [
    {
     "name": "stdout",
     "output_type": "stream",
     "text": [
      "[2, 3]\n",
      "[1, 2]\n",
      "[1, 2]\n",
      "[3, 4]\n"
     ]
    }
   ],
   "source": [
    "# splicing\n",
    "print(ints[1:3]) # only gets second and third objects of our list\n",
    "print(ints[:2]) # everything up to the index 2\n",
    "print(ints[0:2]) # same thing effectively\n",
    "print(ints[2:100]) # don't need to put in right range to get output, no error here"
   ]
  },
  {
   "cell_type": "code",
   "execution_count": 47,
   "id": "9887ee95-8243-4715-a190-29b5b7711a8b",
   "metadata": {},
   "outputs": [
    {
     "name": "stdout",
     "output_type": "stream",
     "text": [
      "[1, 2, 3, 4, 5]\n"
     ]
    }
   ],
   "source": [
    "ints.append(5)\n",
    "print(ints)"
   ]
  },
  {
   "cell_type": "code",
   "execution_count": 48,
   "id": "f683ad62-c537-4cfb-a816-f22cf0698a92",
   "metadata": {},
   "outputs": [
    {
     "name": "stdout",
     "output_type": "stream",
     "text": [
      "[1, 2, 3, 4]\n"
     ]
    }
   ],
   "source": [
    "lastItem = ints.pop() # removes last item in list\n",
    "print(ints)"
   ]
  },
  {
   "cell_type": "code",
   "execution_count": 49,
   "id": "8fb6f03d-45ed-46ac-89c8-60e7b79bfa39",
   "metadata": {},
   "outputs": [
    {
     "name": "stdout",
     "output_type": "stream",
     "text": [
      "5\n"
     ]
    }
   ],
   "source": [
    "print(lastItem)"
   ]
  },
  {
   "cell_type": "code",
   "execution_count": 53,
   "id": "7f84029a-69a6-4f91-915d-dcfb7f14699e",
   "metadata": {},
   "outputs": [
    {
     "name": "stdout",
     "output_type": "stream",
     "text": [
      "1\n",
      "2\n",
      "3\n",
      "4\n",
      "[1, 2, 3, 4]\n"
     ]
    }
   ],
   "source": [
    "for i in ints:\n",
    "    print(i)\n",
    "print(ints)"
   ]
  },
  {
   "cell_type": "markdown",
   "id": "a5152e8e-6359-44b0-8517-f0b3616e7e30",
   "metadata": {},
   "source": [
    "## Dictionaries\n",
    "\n",
    "Dictionaries are used in Python to store data in `key:value` pairs."
   ]
  },
  {
   "cell_type": "code",
   "execution_count": 1,
   "id": "b793ebeb-32aa-4f40-943e-53df2ede7fa6",
   "metadata": {},
   "outputs": [],
   "source": [
    "aDict = {'joe': 5, 'wally': 2}"
   ]
  },
  {
   "cell_type": "code",
   "execution_count": 2,
   "id": "94fa3c88-6ed5-4beb-b2f8-8bbe95f547f2",
   "metadata": {},
   "outputs": [
    {
     "data": {
      "text/plain": [
       "5"
      ]
     },
     "execution_count": 2,
     "metadata": {},
     "output_type": "execute_result"
    }
   ],
   "source": [
    "aDict['joe']"
   ]
  },
  {
   "cell_type": "code",
   "execution_count": 3,
   "id": "a35f998d-a232-4f4b-8ad8-39b029b9e4bf",
   "metadata": {},
   "outputs": [
    {
     "data": {
      "text/plain": [
       "2"
      ]
     },
     "execution_count": 3,
     "metadata": {},
     "output_type": "execute_result"
    }
   ],
   "source": [
    "aDict['wally']"
   ]
  },
  {
   "cell_type": "code",
   "execution_count": 9,
   "id": "288837a1-2eeb-4f7b-8af0-d912ede8b278",
   "metadata": {},
   "outputs": [
    {
     "data": {
      "text/plain": [
       "6"
      ]
     },
     "execution_count": 9,
     "metadata": {},
     "output_type": "execute_result"
    }
   ],
   "source": [
    "aDict['joe'] = 6\n",
    "aDict['joe']"
   ]
  },
  {
   "cell_type": "code",
   "execution_count": 10,
   "id": "ff2cffee-c535-4974-bd4f-c932f2771109",
   "metadata": {},
   "outputs": [
    {
     "ename": "KeyError",
     "evalue": "'wally'",
     "output_type": "error",
     "traceback": [
      "\u001b[1;31m---------------------------------------------------------------------------\u001b[0m",
      "\u001b[1;31mKeyError\u001b[0m                                  Traceback (most recent call last)",
      "Input \u001b[1;32mIn [10]\u001b[0m, in \u001b[0;36m<module>\u001b[1;34m\u001b[0m\n\u001b[1;32m----> 1\u001b[0m \u001b[38;5;28;01mdel\u001b[39;00m aDict[\u001b[38;5;124m'\u001b[39m\u001b[38;5;124mwally\u001b[39m\u001b[38;5;124m'\u001b[39m]\n\u001b[0;32m      2\u001b[0m aDict\n",
      "\u001b[1;31mKeyError\u001b[0m: 'wally'"
     ]
    }
   ],
   "source": [
    "del aDict['wally']\n",
    "aDict"
   ]
  },
  {
   "cell_type": "code",
   "execution_count": null,
   "id": "67b09d0d-dc37-4a2b-acce-c8e578127bf6",
   "metadata": {},
   "outputs": [],
   "source": [
    "aDict"
   ]
  },
  {
   "cell_type": "code",
   "execution_count": null,
   "id": "e8fda7af-5d79-425c-b57d-59ff79e18bc2",
   "metadata": {},
   "outputs": [],
   "source": [
    "aDict['isla'] = 0"
   ]
  },
  {
   "cell_type": "code",
   "execution_count": 8,
   "id": "b27c6a1b-ff5b-454e-8da9-2b4946022348",
   "metadata": {},
   "outputs": [
    {
     "data": {
      "text/plain": [
       "{'joe': 6, 'isla': 0}"
      ]
     },
     "execution_count": 8,
     "metadata": {},
     "output_type": "execute_result"
    }
   ],
   "source": [
    "aDict"
   ]
  },
  {
   "cell_type": "markdown",
   "id": "52281e92-4a5e-444b-9d37-240ddf7bf29d",
   "metadata": {
    "tags": []
   },
   "source": [
    "## If statements\n",
    "We can use `if` statements to control or decide which code will be executed. `if` statements begin with `if` and are often followed by `elif` and/or `else` keywords, but these are not required."
   ]
  },
  {
   "cell_type": "code",
   "execution_count": 17,
   "id": "5a1ff6ee-d048-48c0-8478-42a3dd64fcf9",
   "metadata": {},
   "outputs": [
    {
     "name": "stdout",
     "output_type": "stream",
     "text": [
      "value is less than 200\n"
     ]
    }
   ],
   "source": [
    "value = 100\n",
    "\n",
    "if value < 200:\n",
    "    print(\"value is less than 200\")\n",
    "else:\n",
    "    print(\"value is greater than 200\")"
   ]
  },
  {
   "cell_type": "code",
   "execution_count": 20,
   "id": "8969947f-cc97-4805-8bde-0cbb077cb99f",
   "metadata": {},
   "outputs": [
    {
     "name": "stdout",
     "output_type": "stream",
     "text": [
      "value is greater than 300\n"
     ]
    }
   ],
   "source": [
    "value = 301\n",
    "\n",
    "if value < 200:\n",
    "    print(\"value is less than 200\")\n",
    "# if the conditions preceding are false, try this\n",
    "elif value < 300:\n",
    "    print(\"value is greater than 200 but less than 300\")\n",
    "else:\n",
    "    print(\"value is greater than 300\")"
   ]
  },
  {
   "cell_type": "code",
   "execution_count": 21,
   "id": "df711abf-e8e7-494b-b195-9fd48d3aa72b",
   "metadata": {},
   "outputs": [
    {
     "name": "stdout",
     "output_type": "stream",
     "text": [
      "value is greater than 300\n"
     ]
    }
   ],
   "source": [
    "value = 100 \n",
    "# value == 100 # if you do this with value = 301 from previous chunk, it will not reset the value of `value` to 100. it's an equality operator\n",
    "\n",
    "if value < 200:\n",
    "    if value == 100:\n",
    "        print(\"value is 100\")\n",
    "    else:\n",
    "        print(\"value is less than 200, but not 100\")\n",
    "elif value < 300:\n",
    "    print(\"value is greater than 200 but less than 300\")\n",
    "else:\n",
    "    print(\"value is greater than 300\")"
   ]
  },
  {
   "cell_type": "markdown",
   "id": "168208bc-06fb-4c1d-a906-3f927fecaeba",
   "metadata": {},
   "source": [
    "# Comparison Operators\n",
    "\n",
    "Comparison operators can be used to compare two values"
   ]
  },
  {
   "cell_type": "code",
   "execution_count": 22,
   "id": "b0adce83-be64-4490-9caf-3747fd34c3b4",
   "metadata": {},
   "outputs": [
    {
     "name": "stdout",
     "output_type": "stream",
     "text": [
      "True\n"
     ]
    }
   ],
   "source": [
    "print (1 == 1)"
   ]
  },
  {
   "cell_type": "code",
   "execution_count": 23,
   "id": "598fa933-ac96-4c2b-9e5b-e393859d89dc",
   "metadata": {},
   "outputs": [
    {
     "name": "stdout",
     "output_type": "stream",
     "text": [
      "True\n"
     ]
    }
   ],
   "source": [
    "print (1!=2)"
   ]
  },
  {
   "cell_type": "code",
   "execution_count": 25,
   "id": "c2f17953-34eb-48e9-ba6d-2a5d8efbfd90",
   "metadata": {},
   "outputs": [
    {
     "name": "stdout",
     "output_type": "stream",
     "text": [
      "False\n",
      "False\n"
     ]
    }
   ],
   "source": [
    "gt = 1 > 2\n",
    "gte = 1 >=2\n",
    "print(gt)\n",
    "print(gte)"
   ]
  },
  {
   "cell_type": "code",
   "execution_count": 26,
   "id": "23c531af-2bb3-4689-8552-bdb3c105ebdf",
   "metadata": {},
   "outputs": [
    {
     "name": "stdout",
     "output_type": "stream",
     "text": [
      "True\n",
      "True\n"
     ]
    }
   ],
   "source": [
    "print(1 < 2)\n",
    "print(1 <= 2)"
   ]
  },
  {
   "cell_type": "markdown",
   "id": "e0916f6b-4ded-482a-84aa-0b66123f3657",
   "metadata": {},
   "source": [
    "## Logical Operators\n",
    "Logical operators are used to combine conditional statements."
   ]
  },
  {
   "cell_type": "code",
   "execution_count": 27,
   "id": "5f3d202a-923a-47ce-89b8-c5e2c13c2354",
   "metadata": {},
   "outputs": [
    {
     "name": "stdout",
     "output_type": "stream",
     "text": [
      "True\n",
      "True\n",
      "True\n"
     ]
    }
   ],
   "source": [
    "print(1 < 2 and 2 <3)\n",
    "print(1 > 2 or 2 <3)\n",
    "print(not(1>2))"
   ]
  },
  {
   "cell_type": "markdown",
   "id": "86ffaf63-0f6f-41db-bad7-ef2bb27b512f",
   "metadata": {},
   "source": [
    "# Custom Functions"
   ]
  },
  {
   "cell_type": "code",
   "execution_count": 28,
   "id": "c4e7e9d3-41f8-4ec9-ab5c-0aa10f3952de",
   "metadata": {},
   "outputs": [],
   "source": [
    "def hello_world():\n",
    "    print(\"hello world\")\n"
   ]
  },
  {
   "cell_type": "code",
   "execution_count": 29,
   "id": "cb057532-adc6-4b7d-9c97-63b318382c29",
   "metadata": {},
   "outputs": [
    {
     "name": "stdout",
     "output_type": "stream",
     "text": [
      "hello world\n"
     ]
    }
   ],
   "source": [
    "hello_world()"
   ]
  },
  {
   "cell_type": "code",
   "execution_count": 30,
   "id": "f5a1d35b-7cc3-462c-92ea-bd24d2af5a46",
   "metadata": {},
   "outputs": [],
   "source": [
    "def bigger(a,b):\n",
    "    # this will return whichever value, a or b, is larger\n",
    "    if a > b:\n",
    "        result = a\n",
    "    else:\n",
    "        result = b\n",
    "    return result"
   ]
  },
  {
   "cell_type": "code",
   "execution_count": 31,
   "id": "46769b6d-4f97-4696-99b5-27db6f53bdc8",
   "metadata": {},
   "outputs": [
    {
     "data": {
      "text/plain": [
       "5"
      ]
     },
     "execution_count": 31,
     "metadata": {},
     "output_type": "execute_result"
    }
   ],
   "source": [
    "bigger(3,5)"
   ]
  },
  {
   "cell_type": "markdown",
   "id": "4f331c40-2862-4831-9b8e-c9d069f69e1c",
   "metadata": {},
   "source": [
    "## Classes\n",
    "Classes allow users to create a new type of object that allows for added functionality. When a class is created, a new type of object is created that can be used to create instances of that object."
   ]
  },
  {
   "cell_type": "code",
   "execution_count": 34,
   "id": "dfc4e56c-0fbd-428b-a9c6-0009d6f43cd6",
   "metadata": {},
   "outputs": [],
   "source": [
    "class Agent:\n",
    "    \n",
    "    # Note: the self keyword is telling python to access or use attributes for a specific instance of the class\n",
    "    def __init__(self,u,e):\n",
    "        self.u = u\n",
    "        self.e = e\n",
    "        \n",
    "    def get_utility(self,x,y):\n",
    "        if self.u == 'linear':\n",
    "            result = x + y\n",
    "        if self.u == 'leontif':\n",
    "            result = min(x,y)\n",
    "        return result\n",
    "    "
   ]
  },
  {
   "cell_type": "code",
   "execution_count": 35,
   "id": "611c5751-6908-4108-9600-d9dd27feb7fa",
   "metadata": {},
   "outputs": [
    {
     "name": "stdout",
     "output_type": "stream",
     "text": [
      "linear 10\n"
     ]
    }
   ],
   "source": [
    "agent1 = Agent('linear', 10)\n",
    "print(agent1.u, agent1.e)"
   ]
  },
  {
   "cell_type": "code",
   "execution_count": 36,
   "id": "169a92ef-1980-4330-8af8-251acef5eb1b",
   "metadata": {},
   "outputs": [
    {
     "name": "stdout",
     "output_type": "stream",
     "text": [
      "leontif 20\n"
     ]
    }
   ],
   "source": [
    "agent2 = Agent('leontif',20)\n",
    "print(agent2.u, agent2.e)"
   ]
  },
  {
   "cell_type": "code",
   "execution_count": 37,
   "id": "ee7489ac-1cca-4217-bb9a-e5636953da33",
   "metadata": {},
   "outputs": [
    {
     "data": {
      "text/plain": [
       "15"
      ]
     },
     "execution_count": 37,
     "metadata": {},
     "output_type": "execute_result"
    }
   ],
   "source": [
    "agent1.get_utility(5,10)"
   ]
  },
  {
   "cell_type": "code",
   "execution_count": 38,
   "id": "518c441d-4777-487a-8147-a04c6adce0ce",
   "metadata": {},
   "outputs": [
    {
     "data": {
      "text/plain": [
       "5"
      ]
     },
     "execution_count": 38,
     "metadata": {},
     "output_type": "execute_result"
    }
   ],
   "source": [
    "agent2.get_utility(5,10)"
   ]
  },
  {
   "cell_type": "markdown",
   "id": "480aaa7f-17ae-4d8f-a2eb-be3cb913b687",
   "metadata": {},
   "source": [
    "# Objects in Python\n",
    "We've already seen a few different types of Python objects along with some of their methods."
   ]
  },
  {
   "cell_type": "code",
   "execution_count": 40,
   "id": "0c49e4ef-0a2e-4b4c-82c7-382156ba0b50",
   "metadata": {},
   "outputs": [
    {
     "name": "stdout",
     "output_type": "stream",
     "text": [
      "[1, 2, 3, 4]\n"
     ]
    }
   ],
   "source": [
    "alist = [1,2,3]\n",
    "alist.append(4)\n",
    "print(alist)"
   ]
  },
  {
   "cell_type": "markdown",
   "id": "850bd7b6-5f15-4e69-9bcd-7284f9861c6e",
   "metadata": {},
   "source": [
    "## Strings\n",
    "Strings are objects in Python with useful built-in methods (functions)."
   ]
  },
  {
   "cell_type": "code",
   "execution_count": 48,
   "id": "2b460831-b86a-456c-8a34-de9fd3ea66b1",
   "metadata": {},
   "outputs": [
    {
     "name": "stdout",
     "output_type": "stream",
     "text": [
      "hello world\n"
     ]
    }
   ],
   "source": [
    "aString = \"hello$world\"\n",
    "aString = aString.replace('$', ' ')\n",
    "print(aString)"
   ]
  },
  {
   "cell_type": "code",
   "execution_count": 43,
   "id": "2ce6b9fd-e2c6-4973-97a1-1c550d770bce",
   "metadata": {},
   "outputs": [
    {
     "name": "stdout",
     "output_type": "stream",
     "text": [
      "Hello World\n"
     ]
    }
   ],
   "source": [
    "aString = aString.title()\n",
    "print(aString)"
   ]
  },
  {
   "cell_type": "code",
   "execution_count": 52,
   "id": "dec941b9-dd5b-4809-b4dd-745237d0abd2",
   "metadata": {},
   "outputs": [
    {
     "name": "stdout",
     "output_type": "stream",
     "text": [
      "['hello', 'world']\n"
     ]
    }
   ],
   "source": [
    "x = aString.split(' ')\n",
    "print(x)"
   ]
  },
  {
   "cell_type": "code",
   "execution_count": 45,
   "id": "d4927420-7df1-4214-8dee-1fee33ca4154",
   "metadata": {},
   "outputs": [],
   "source": [
    "hello = hello + ','"
   ]
  },
  {
   "cell_type": "code",
   "execution_count": 47,
   "id": "ceac376f-e60e-4004-85b5-1adb567b07fd",
   "metadata": {},
   "outputs": [
    {
     "name": "stdout",
     "output_type": "stream",
     "text": [
      "Hello, World!1!!!!!!!!\n"
     ]
    }
   ],
   "source": [
    "aString = hello + ' ' + world + \"!1!!!!!!!!\"\n",
    "print(aString)"
   ]
  },
  {
   "cell_type": "markdown",
   "id": "add9b980-a7a8-4a5d-aa59-8d907eb629e3",
   "metadata": {},
   "source": [
    "## Questions from Class\n",
    "1) Can you compare lists with `>` or `<` operators?\n",
    "   \n",
    "   * Python will start by comparing the first items of each list. If the values are the same, it will move the second values of each list. Otherwise, it will return the result depending on the comparison operator provided. Some examples will follow."
   ]
  },
  {
   "cell_type": "code",
   "execution_count": 53,
   "id": "3ea766d4-4552-4f5f-bd05-c9c2fb0ef85f",
   "metadata": {},
   "outputs": [
    {
     "data": {
      "text/plain": [
       "False"
      ]
     },
     "execution_count": 53,
     "metadata": {},
     "output_type": "execute_result"
    }
   ],
   "source": [
    "[1,2,3] > [1,3,4]"
   ]
  },
  {
   "cell_type": "code",
   "execution_count": 54,
   "id": "088d9825-242d-4b36-82c6-5ccbd3f285e7",
   "metadata": {},
   "outputs": [
    {
     "data": {
      "text/plain": [
       "True"
      ]
     },
     "execution_count": 54,
     "metadata": {},
     "output_type": "execute_result"
    }
   ],
   "source": [
    "[4,1] > [2,20,19]"
   ]
  },
  {
   "cell_type": "code",
   "execution_count": 55,
   "id": "d7252926-4faa-4542-a345-ef3425e0952e",
   "metadata": {},
   "outputs": [
    {
     "data": {
      "text/plain": [
       "True"
      ]
     },
     "execution_count": 55,
     "metadata": {},
     "output_type": "execute_result"
    }
   ],
   "source": [
    "[1,4] < [2,50,9]"
   ]
  },
  {
   "cell_type": "code",
   "execution_count": 56,
   "id": "28b3dae7-bbe6-4bb8-857c-2bd1f30e7c8c",
   "metadata": {},
   "outputs": [
    {
     "data": {
      "text/plain": [
       "True"
      ]
     },
     "execution_count": 56,
     "metadata": {},
     "output_type": "execute_result"
    }
   ],
   "source": [
    "[1,4] < [1,50, 9]"
   ]
  },
  {
   "cell_type": "code",
   "execution_count": 57,
   "id": "26d77b2e-8d44-4839-aa79-7a87ba01311c",
   "metadata": {},
   "outputs": [
    {
     "data": {
      "text/plain": [
       "False"
      ]
     },
     "execution_count": 57,
     "metadata": {},
     "output_type": "execute_result"
    }
   ],
   "source": [
    "[1,4] < [0.5,50,9]"
   ]
  },
  {
   "cell_type": "code",
   "execution_count": 58,
   "id": "f63cd9f6-9753-4e0d-ad4e-e50117cd0a93",
   "metadata": {},
   "outputs": [
    {
     "data": {
      "text/plain": [
       "False"
      ]
     },
     "execution_count": 58,
     "metadata": {},
     "output_type": "execute_result"
    }
   ],
   "source": [
    "[1,4] < [1/2,50,9]"
   ]
  },
  {
   "cell_type": "code",
   "execution_count": 59,
   "id": "88bfb1ab-6247-48dd-9542-c445935dc28d",
   "metadata": {},
   "outputs": [
    {
     "data": {
      "text/plain": [
       "False"
      ]
     },
     "execution_count": 59,
     "metadata": {},
     "output_type": "execute_result"
    }
   ],
   "source": [
    "[1,4] < [5*1/5*1/5,50,9]"
   ]
  },
  {
   "cell_type": "code",
   "execution_count": 60,
   "id": "d3dfd59d-cfad-4d3e-88f3-f6d825fea4ca",
   "metadata": {},
   "outputs": [
    {
     "data": {
      "text/plain": [
       "0.2"
      ]
     },
     "execution_count": 60,
     "metadata": {},
     "output_type": "execute_result"
    }
   ],
   "source": [
    "5*1/5*1/5"
   ]
  },
  {
   "cell_type": "code",
   "execution_count": 61,
   "id": "94bc3217-8dac-47df-aeba-de547cead867",
   "metadata": {},
   "outputs": [
    {
     "ename": "NameError",
     "evalue": "name 'frac' is not defined",
     "output_type": "error",
     "traceback": [
      "\u001b[1;31m---------------------------------------------------------------------------\u001b[0m",
      "\u001b[1;31mNameError\u001b[0m                                 Traceback (most recent call last)",
      "Input \u001b[1;32mIn [61]\u001b[0m, in \u001b[0;36m<module>\u001b[1;34m\u001b[0m\n\u001b[1;32m----> 1\u001b[0m \u001b[43mfrac\u001b[49m(\u001b[38;5;241m5\u001b[39m\u001b[38;5;241m*\u001b[39m\u001b[38;5;241m1\u001b[39m\u001b[38;5;241m/\u001b[39m\u001b[38;5;241m5\u001b[39m\u001b[38;5;241m*\u001b[39m\u001b[38;5;241m1\u001b[39m\u001b[38;5;241m/\u001b[39m\u001b[38;5;241m5\u001b[39m)\n",
      "\u001b[1;31mNameError\u001b[0m: name 'frac' is not defined"
     ]
    }
   ],
   "source": [
    "frac(5*1/5*1/5)"
   ]
  },
  {
   "cell_type": "code",
   "execution_count": 62,
   "id": "3f0942e1-6b61-4a4b-b46f-321f6f5e30a8",
   "metadata": {},
   "outputs": [
    {
     "data": {
      "text/plain": [
       "2"
      ]
     },
     "execution_count": 62,
     "metadata": {},
     "output_type": "execute_result"
    }
   ],
   "source": [
    " 5 // 2 # floor division"
   ]
  },
  {
   "cell_type": "code",
   "execution_count": 63,
   "id": "f7f58826-b049-4e4d-9d80-7fca1aafc12c",
   "metadata": {},
   "outputs": [
    {
     "data": {
      "text/plain": [
       "1"
      ]
     },
     "execution_count": 63,
     "metadata": {},
     "output_type": "execute_result"
    }
   ],
   "source": [
    "5 % 2 # modulus"
   ]
  },
  {
   "cell_type": "code",
   "execution_count": 65,
   "id": "83937c92-f9f5-471e-a19c-83272cba9b6a",
   "metadata": {},
   "outputs": [],
   "source": [
    "def mixed_number(num,den):\n",
    "    # takes an improper fraction and converts it to a mixed number\n",
    "    a = num // den # floor division\n",
    "    b = num % den # modulus\n",
    "    return '{} {}/{}'.format(a, b, den)"
   ]
  },
  {
   "cell_type": "code",
   "execution_count": 66,
   "id": "a5790e1a-69db-4f52-a171-beb9fd86e4ff",
   "metadata": {},
   "outputs": [
    {
     "data": {
      "text/plain": [
       "'2 1/2'"
      ]
     },
     "execution_count": 66,
     "metadata": {},
     "output_type": "execute_result"
    }
   ],
   "source": [
    "mixed_number(5,2)"
   ]
  }
 ],
 "metadata": {
  "kernelspec": {
   "display_name": "Python 3 (ipykernel)",
   "language": "python",
   "name": "python3"
  },
  "language_info": {
   "codemirror_mode": {
    "name": "ipython",
    "version": 3
   },
   "file_extension": ".py",
   "mimetype": "text/x-python",
   "name": "python",
   "nbconvert_exporter": "python",
   "pygments_lexer": "ipython3",
   "version": "3.9.5"
  }
 },
 "nbformat": 4,
 "nbformat_minor": 5
}
