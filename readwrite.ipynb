{
 "cells": [
  {
   "cell_type": "code",
   "execution_count": 1,
   "id": "088502ea-1b2f-42b1-97bf-62d495695639",
   "metadata": {},
   "outputs": [],
   "source": [
    "import os, csv\n",
    "import random"
   ]
  },
  {
   "cell_type": "code",
   "execution_count": 2,
   "id": "4252676f-9839-4c00-a88e-2239b25427fa",
   "metadata": {},
   "outputs": [
    {
     "name": "stdout",
     "output_type": "stream",
     "text": [
      "<built-in function getcwd>\n"
     ]
    }
   ],
   "source": [
    "print(os.getcwd)"
   ]
  },
  {
   "cell_type": "code",
   "execution_count": 3,
   "id": "7541b6c8-41b9-4d4d-8bad-e295306b1c95",
   "metadata": {},
   "outputs": [
    {
     "name": "stdout",
     "output_type": "stream",
     "text": [
      "C:\\Users\\austi\\Documents\\Python\\python_workshop\n"
     ]
    }
   ],
   "source": [
    "print(os.getcwd())"
   ]
  },
  {
   "cell_type": "code",
   "execution_count": 4,
   "id": "a7b7d46a-fcf8-4c72-bfed-50ad8ffac65f",
   "metadata": {},
   "outputs": [
    {
     "name": "stdout",
     "output_type": "stream",
     "text": [
      "C:\\Users\\austi\\Documents\\Python\\python_workshop\\roster.csv\n"
     ]
    }
   ],
   "source": [
    "path1 = os.getcwd()\n",
    "path2 = 'roster.csv'\n",
    "csvFilePath = os.path.join(path1,path2) # helps collaboration across Mac and Windows devices, since Mac uses / and Windows uses \\ for directories\n",
    "print(csvFilePath)"
   ]
  },
  {
   "cell_type": "markdown",
   "id": "c653805e-1648-4635-be98-c1a73f0d822c",
   "metadata": {},
   "source": [
    "# Reading CSV Files"
   ]
  },
  {
   "cell_type": "code",
   "execution_count": 5,
   "id": "67feba9b-955e-4492-9442-bc6c4eb83267",
   "metadata": {},
   "outputs": [
    {
     "name": "stdout",
     "output_type": "stream",
     "text": [
      "['name']\n"
     ]
    }
   ],
   "source": [
    "with open(csvFilePath, mode='r', newline='', encoding='utf-8') as csvFile:\n",
    "    reader = csv.reader(csvFile, delimiter=',')\n",
    "    print(next(reader))\n",
    "    \n",
    "# mode='r', we are reading only\n",
    "# new lines are interpreted correctly\n",
    "# specify character encoding, may need 'utf-8-sig'"
   ]
  },
  {
   "cell_type": "code",
   "execution_count": 6,
   "id": "63758664-8b13-4547-be9b-86aec645ebb7",
   "metadata": {},
   "outputs": [
    {
     "name": "stdout",
     "output_type": "stream",
     "text": [
      "['Joe']\n"
     ]
    }
   ],
   "source": [
    "with open(csvFilePath, mode='r', newline='', encoding='utf-8') as csvFile:\n",
    "    reader = csv.reader(csvFile, delimiter=',')\n",
    "    header = next(reader)\n",
    "    print(next(reader))"
   ]
  },
  {
   "cell_type": "code",
   "execution_count": 7,
   "id": "4a2a3201-d838-4bc3-81b9-b5c889d38b02",
   "metadata": {},
   "outputs": [
    {
     "name": "stdout",
     "output_type": "stream",
     "text": [
      "['Joe']\n",
      "['Jihuan']\n"
     ]
    }
   ],
   "source": [
    "with open(csvFilePath, mode='r', newline='', encoding='utf-8') as csvFile:\n",
    "    reader = csv.reader(csvFile, delimiter=',')\n",
    "    header = next(reader)\n",
    "    print(next(reader))\n",
    "    print(next(reader))"
   ]
  },
  {
   "cell_type": "code",
   "execution_count": 8,
   "id": "3f112c9e-e10c-44be-9a98-14068e831b02",
   "metadata": {},
   "outputs": [
    {
     "name": "stdout",
     "output_type": "stream",
     "text": [
      "['Joe']\n",
      "{'name': 'Joe'}\n",
      "['Jihuan']\n",
      "{'name': 'Jihuan'}\n",
      "['Ali']\n",
      "{'name': 'Ali'}\n",
      "['Frances']\n",
      "{'name': 'Frances'}\n",
      "['Daniela V']\n",
      "{'name': 'Daniela V'}\n",
      "['Mostafa']\n",
      "{'name': 'Mostafa'}\n",
      "['Daniela P']\n",
      "{'name': 'Daniela P'}\n",
      "['Cesar']\n",
      "{'name': 'Cesar'}\n",
      "['Jarrod']\n",
      "{'name': 'Jarrod'}\n",
      "['Austin']\n",
      "{'name': 'Austin'}\n",
      "['Jack']\n",
      "{'name': 'Jack'}\n",
      "['Ala']\n",
      "{'name': 'Ala'}\n",
      "['Sergii']\n",
      "{'name': 'Sergii'}\n",
      "['Miles']\n",
      "{'name': 'Miles'}\n",
      "['Hyeyun']\n",
      "{'name': 'Hyeyun'}\n",
      "['Volodymyr']\n",
      "{'name': 'Volodymyr'}\n",
      "['Yijia']\n",
      "{'name': 'Yijia'}\n",
      "['Hsin-Yun']\n",
      "{'name': 'Hsin-Yun'}\n",
      "['Renata']\n",
      "{'name': 'Renata'}\n",
      "['Max']\n",
      "{'name': 'Max'}\n",
      "['Joshua']\n",
      "{'name': 'Joshua'}\n",
      "['David']\n",
      "{'name': 'David'}\n"
     ]
    }
   ],
   "source": [
    "with open(csvFilePath, mode='r', newline='', encoding='utf-8') as csvFile:\n",
    "    reader = csv.reader(csvFile, delimiter=',')\n",
    "    header = next(reader)\n",
    "    roster = []\n",
    "    for row in reader:\n",
    "        print(row)\n",
    "        temp = {'name': row[0]}\n",
    "        print(temp)"
   ]
  },
  {
   "cell_type": "code",
   "execution_count": 9,
   "id": "ca2e0ab1-69a2-4700-a5a5-eacd935afbe3",
   "metadata": {},
   "outputs": [
    {
     "name": "stdout",
     "output_type": "stream",
     "text": [
      "[{'name': 'Joe'}, {'name': 'Jihuan'}, {'name': 'Ali'}, {'name': 'Frances'}, {'name': 'Daniela V'}, {'name': 'Mostafa'}, {'name': 'Daniela P'}, {'name': 'Cesar'}, {'name': 'Jarrod'}, {'name': 'Austin'}, {'name': 'Jack'}, {'name': 'Ala'}, {'name': 'Sergii'}, {'name': 'Miles'}, {'name': 'Hyeyun'}, {'name': 'Volodymyr'}, {'name': 'Yijia'}, {'name': 'Hsin-Yun'}, {'name': 'Renata'}, {'name': 'Max'}, {'name': 'Joshua'}, {'name': 'David'}]\n"
     ]
    }
   ],
   "source": [
    "with open(csvFilePath, mode='r', newline='', encoding='utf-8') as csvFile:\n",
    "    reader = csv.reader(csvFile, delimiter=',')\n",
    "    header = next(reader)\n",
    "    roster = []\n",
    "    for row in reader:\n",
    "        temp = {'name': row[0]}\n",
    "        roster.append(temp)\n",
    "    print(roster)"
   ]
  },
  {
   "cell_type": "markdown",
   "id": "82d82d83-b95c-4af6-86d1-92fbee780ad8",
   "metadata": {},
   "source": [
    "### Modifying the Data"
   ]
  },
  {
   "cell_type": "code",
   "execution_count": 10,
   "id": "074ddaa8-c8fc-4c25-b651-cc4ea3dda7c3",
   "metadata": {},
   "outputs": [
    {
     "name": "stdout",
     "output_type": "stream",
     "text": [
      "[{'name': 'Joe'}, {'name': 'Jihuan'}, {'name': 'Ali'}, {'name': 'Frances'}, {'name': 'Daniela V'}, {'name': 'Mostafa'}, {'name': 'Daniela P'}, {'name': 'Cesar'}, {'name': 'Jarrod'}, {'name': 'Austin'}, {'name': 'Jack'}, {'name': 'Ala'}, {'name': 'Sergii'}, {'name': 'Miles'}, {'name': 'Hyeyun'}, {'name': 'Volodymyr'}, {'name': 'Yijia'}, {'name': 'Hsin-Yun'}, {'name': 'Renata'}, {'name': 'Max'}, {'name': 'Joshua'}, {'name': 'David'}, {'name': 'Wally'}]\n"
     ]
    }
   ],
   "source": [
    "## Add someone who is missing\n",
    "roster.append({'name': 'Wally'})\n",
    "print(roster)"
   ]
  },
  {
   "cell_type": "markdown",
   "id": "362ca553-3268-4abb-b926-3ba2de30fae1",
   "metadata": {},
   "source": [
    "### Assign grades to roster"
   ]
  },
  {
   "cell_type": "code",
   "execution_count": 11,
   "id": "2cac651f-eb3b-491f-ac2e-47d727ace51e",
   "metadata": {},
   "outputs": [],
   "source": [
    "random.seed(1)"
   ]
  },
  {
   "cell_type": "code",
   "execution_count": 12,
   "id": "1fe79c7e-fa23-45c9-999e-8cf34786c7f8",
   "metadata": {},
   "outputs": [],
   "source": [
    "for student in roster:\n",
    "    student['grade'] = random.randint(0,100)"
   ]
  },
  {
   "cell_type": "code",
   "execution_count": 13,
   "id": "28b08d07-a2c2-4d1e-8a14-13e8dcc41834",
   "metadata": {},
   "outputs": [],
   "source": [
    "def compute_mean(values):\n",
    "    n = len(values)\n",
    "    result = sum(values)/n\n",
    "    return result"
   ]
  },
  {
   "cell_type": "code",
   "execution_count": 14,
   "id": "abeb8291-42b0-4773-968f-f61abf0b8956",
   "metadata": {},
   "outputs": [
    {
     "name": "stdout",
     "output_type": "stream",
     "text": [
      "[17, 72, 97, 8, 32, 15, 63, 97, 57, 60, 83, 48, 100, 26, 12, 62, 3, 49, 55, 77, 97, 98, 0]\n"
     ]
    }
   ],
   "source": [
    "grades = []\n",
    "for student in roster:\n",
    "    grade = student['grade']\n",
    "    grades.append(grade)\n",
    "    \n",
    "print(grades)"
   ]
  },
  {
   "cell_type": "code",
   "execution_count": 15,
   "id": "2ed37e66-48d0-4896-9bbb-3d664e20f8e0",
   "metadata": {},
   "outputs": [
    {
     "name": "stdout",
     "output_type": "stream",
     "text": [
      "53.391304347826086\n"
     ]
    }
   ],
   "source": [
    "mean = compute_mean(grades)\n",
    "print(mean)"
   ]
  },
  {
   "cell_type": "markdown",
   "id": "8a68e08e-4edd-40c5-bf1b-9925bfe88ac9",
   "metadata": {},
   "source": [
    "### Edit a specific row/student"
   ]
  },
  {
   "cell_type": "code",
   "execution_count": 16,
   "id": "d5aeb05c-f76b-4051-b249-ab082149c544",
   "metadata": {},
   "outputs": [],
   "source": [
    "for student in roster:\n",
    "    if student['name'] == 'Daniela P':\n",
    "        student['grade'] = 100"
   ]
  },
  {
   "cell_type": "code",
   "execution_count": 17,
   "id": "57b9689c-23e8-439d-a8a9-86909c79c0bd",
   "metadata": {},
   "outputs": [
    {
     "name": "stdout",
     "output_type": "stream",
     "text": [
      "{'name': 'Joe', 'grade': 57}\n",
      "{'name': 'Jihuan', 'grade': 72}\n",
      "{'name': 'Ali', 'grade': 97}\n",
      "{'name': 'Frances', 'grade': 48}\n",
      "{'name': 'Daniela V', 'grade': 72}\n",
      "{'name': 'Mostafa', 'grade': 55}\n",
      "{'name': 'Daniela P', 'grade': 100}\n",
      "{'name': 'Cesar', 'grade': 97}\n",
      "{'name': 'Jarrod', 'grade': 57}\n",
      "{'name': 'Austin', 'grade': 60}\n",
      "{'name': 'Jack', 'grade': 83}\n",
      "{'name': 'Ala', 'grade': 88}\n",
      "{'name': 'Sergii', 'grade': 100}\n",
      "{'name': 'Miles', 'grade': 66}\n",
      "{'name': 'Hyeyun', 'grade': 52}\n",
      "{'name': 'Volodymyr', 'grade': 62}\n",
      "{'name': 'Yijia', 'grade': 43}\n",
      "{'name': 'Hsin-Yun', 'grade': 89}\n",
      "{'name': 'Renata', 'grade': 55}\n",
      "{'name': 'Max', 'grade': 77}\n",
      "{'name': 'Joshua', 'grade': 97}\n",
      "{'name': 'David', 'grade': 98}\n",
      "{'name': 'Wally', 'grade': 40}\n"
     ]
    }
   ],
   "source": [
    "for student in roster:\n",
    "    if student['grade'] < 50:\n",
    "        student['grade'] = student['grade'] + 40\n",
    "    print(student)"
   ]
  },
  {
   "cell_type": "code",
   "execution_count": 18,
   "id": "5053c6a9-c10d-4a5b-88ff-a90ccecb938e",
   "metadata": {},
   "outputs": [
    {
     "name": "stdout",
     "output_type": "stream",
     "text": [
      "[57, 72, 97, 48, 72, 55, 100, 97, 57, 60, 83, 88, 100, 66, 52, 62, 43, 89, 55, 77, 97, 98, 40]\n"
     ]
    }
   ],
   "source": [
    "# list comprehensions\n",
    "grades = [student['grade'] for student in roster]\n",
    "print(grades)"
   ]
  },
  {
   "cell_type": "code",
   "execution_count": 19,
   "id": "9a42daaf-945f-44cb-967e-1c396fcaf192",
   "metadata": {},
   "outputs": [
    {
     "name": "stdout",
     "output_type": "stream",
     "text": [
      "72.3913043478261\n"
     ]
    }
   ],
   "source": [
    "average = compute_mean(grades)\n",
    "print(average)"
   ]
  },
  {
   "cell_type": "markdown",
   "id": "1d310c8a-93fb-4509-aaff-8f989432e2da",
   "metadata": {},
   "source": [
    "## Write to CSV"
   ]
  },
  {
   "cell_type": "code",
   "execution_count": 20,
   "id": "c2d604c2-f623-4f60-b7f0-4e6e82a68f46",
   "metadata": {},
   "outputs": [
    {
     "name": "stdout",
     "output_type": "stream",
     "text": [
      "C:\\Users\\austi\\Documents\\Python\\python_workshop\\roster_grades.csv\n"
     ]
    }
   ],
   "source": [
    "outFilePath = os.path.join(os.getcwd(), 'roster_grades.csv')\n",
    "print(outFilePath)"
   ]
  },
  {
   "cell_type": "code",
   "execution_count": 21,
   "id": "5f938971-399e-4678-b6d8-18269fa4ba6c",
   "metadata": {},
   "outputs": [],
   "source": [
    "with open(outFilePath, mode='w', newline='') as csvfile:  # Make sure you wouldn't want to overwrite whatever file you are doing here\n",
    "    pass # Should be... nothing"
   ]
  },
  {
   "cell_type": "code",
   "execution_count": 23,
   "id": "5ac719ec-86ce-492f-828d-a5483855886c",
   "metadata": {},
   "outputs": [
    {
     "name": "stdout",
     "output_type": "stream",
     "text": [
      "dict_keys(['name', 'grade'])\n"
     ]
    }
   ],
   "source": [
    "with open(outFilePath, mode='w', newline='') as csvfile: # Make sure you wouldn't want to overwrite whatever file you are doing here \n",
    "    writer = csv.writer(csvfile) \n",
    "    print(roster[0].keys()) # dict_keys of elements"
   ]
  },
  {
   "cell_type": "code",
   "execution_count": 25,
   "id": "e6176067-3bc9-494b-8468-0b6461657bfc",
   "metadata": {},
   "outputs": [
    {
     "name": "stdout",
     "output_type": "stream",
     "text": [
      "['name', 'grade']\n"
     ]
    }
   ],
   "source": [
    "with open(outFilePath, mode='w', newline='') as csvfile: # Make sure you wouldn't want to overwrite whatever file you are doing here \n",
    "    writer = csv.writer(csvfile) \n",
    "    print(list(roster[0].keys())) # list of elements"
   ]
  },
  {
   "cell_type": "code",
   "execution_count": 26,
   "id": "157b1246-2ce8-4614-8caa-c07ecf52d813",
   "metadata": {},
   "outputs": [
    {
     "name": "stdout",
     "output_type": "stream",
     "text": [
      "['name', 'grade']\n"
     ]
    }
   ],
   "source": [
    "with open(outFilePath, mode='w', newline='') as csvfile: # Make sure you wouldn't want to overwrite whatever file you are doing here \n",
    "    writer = csv.writer(csvfile) \n",
    "    header = list(roster[0].keys())\n",
    "    print(header)\n",
    "    writer.writerow(header) # roster_grades.csv will have column headers called \"name\" and \"grade\""
   ]
  },
  {
   "cell_type": "code",
   "execution_count": 28,
   "id": "e13849f2-ff54-4437-902a-e38b1095b83f",
   "metadata": {},
   "outputs": [
    {
     "name": "stdout",
     "output_type": "stream",
     "text": [
      "['name', 'grade']\n",
      "['Joe', 57]\n",
      "['Jihuan', 72]\n",
      "['Ali', 97]\n",
      "['Frances', 48]\n",
      "['Daniela V', 72]\n",
      "['Mostafa', 55]\n",
      "['Daniela P', 100]\n",
      "['Cesar', 97]\n",
      "['Jarrod', 57]\n",
      "['Austin', 60]\n",
      "['Jack', 83]\n",
      "['Ala', 88]\n",
      "['Sergii', 100]\n",
      "['Miles', 66]\n",
      "['Hyeyun', 52]\n",
      "['Volodymyr', 62]\n",
      "['Yijia', 43]\n",
      "['Hsin-Yun', 89]\n",
      "['Renata', 55]\n",
      "['Max', 77]\n",
      "['Joshua', 97]\n",
      "['David', 98]\n",
      "['Wally', 40]\n"
     ]
    }
   ],
   "source": [
    "with open(outFilePath, mode='w', newline='') as csvfile: # Make sure you wouldn't want to overwrite whatever file you are doing here \n",
    "    writer = csv.writer(csvfile) \n",
    "    header = list(roster[0].keys())\n",
    "    print(header)\n",
    "    writer.writerow(header)\n",
    "    for student in roster:\n",
    "        rowToWrite = [ student['name'], student['grade'] ]\n",
    "        print(rowToWrite) # to get a sense of what will happen"
   ]
  },
  {
   "cell_type": "code",
   "execution_count": 29,
   "id": "26e13cdd-e45d-4ee8-bfee-052bf2193842",
   "metadata": {},
   "outputs": [
    {
     "name": "stdout",
     "output_type": "stream",
     "text": [
      "['name', 'grade']\n"
     ]
    }
   ],
   "source": [
    "with open(outFilePath, mode='w', newline='') as csvfile: # Make sure you wouldn't want to overwrite whatever file you are doing here \n",
    "    writer = csv.writer(csvfile) \n",
    "    header = list(roster[0].keys())\n",
    "    print(header)\n",
    "    writer.writerow(header)\n",
    "    for student in roster:\n",
    "        rowToWrite = [ student['name'], student['grade'] ]\n",
    "        writer.writerow(rowToWrite) # complete CSV as we want it! "
   ]
  },
  {
   "cell_type": "markdown",
   "id": "3b618c38-130f-41ad-9df4-2571cb1a6f4e",
   "metadata": {},
   "source": [
    "Clearly this is a lot of work to do relatively *not a lot*. We did a lot of work to do something fairly simple. But, here, we are only using base Python. Now, we are going to start using Python packages that are not necessarily native to the Python environment. "
   ]
  },
  {
   "cell_type": "code",
   "execution_count": null,
   "id": "47f7b744-5340-4db1-9496-14ede4abe47c",
   "metadata": {},
   "outputs": [],
   "source": []
  }
 ],
 "metadata": {
  "kernelspec": {
   "display_name": "Python 3 (ipykernel)",
   "language": "python",
   "name": "python3"
  },
  "language_info": {
   "codemirror_mode": {
    "name": "ipython",
    "version": 3
   },
   "file_extension": ".py",
   "mimetype": "text/x-python",
   "name": "python",
   "nbconvert_exporter": "python",
   "pygments_lexer": "ipython3",
   "version": "3.9.5"
  }
 },
 "nbformat": 4,
 "nbformat_minor": 5
}
