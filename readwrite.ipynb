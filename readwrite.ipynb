{
 "cells": [
  {
   "cell_type": "code",
   "execution_count": 25,
   "id": "088502ea-1b2f-42b1-97bf-62d495695639",
   "metadata": {},
   "outputs": [],
   "source": [
    "import os, csv\n",
    "import random"
   ]
  },
  {
   "cell_type": "code",
   "execution_count": 2,
   "id": "4252676f-9839-4c00-a88e-2239b25427fa",
   "metadata": {},
   "outputs": [
    {
     "name": "stdout",
     "output_type": "stream",
     "text": [
      "<built-in function getcwd>\n"
     ]
    }
   ],
   "source": [
    "print(os.getcwd)"
   ]
  },
  {
   "cell_type": "code",
   "execution_count": 3,
   "id": "7541b6c8-41b9-4d4d-8bad-e295306b1c95",
   "metadata": {},
   "outputs": [
    {
     "name": "stdout",
     "output_type": "stream",
     "text": [
      "C:\\Users\\austi\\Documents\\Python\\python_workshop\n"
     ]
    }
   ],
   "source": [
    "print(os.getcwd())"
   ]
  },
  {
   "cell_type": "code",
   "execution_count": 5,
   "id": "a7b7d46a-fcf8-4c72-bfed-50ad8ffac65f",
   "metadata": {},
   "outputs": [
    {
     "name": "stdout",
     "output_type": "stream",
     "text": [
      "C:\\Users\\austi\\Documents\\Python\\python_workshop\\roster.csv\n"
     ]
    }
   ],
   "source": [
    "path1 = os.getcwd()\n",
    "path2 = 'roster.csv'\n",
    "csvFilePath = os.path.join(path1,path2) # helps collaboration across Mac and Windows devices, since Mac uses / and Windows uses \\ for directories\n",
    "print(csvFilePath)"
   ]
  },
  {
   "cell_type": "markdown",
   "id": "c653805e-1648-4635-be98-c1a73f0d822c",
   "metadata": {},
   "source": [
    "# Reading CSV Files"
   ]
  },
  {
   "cell_type": "code",
   "execution_count": 11,
   "id": "67feba9b-955e-4492-9442-bc6c4eb83267",
   "metadata": {},
   "outputs": [
    {
     "name": "stdout",
     "output_type": "stream",
     "text": [
      "['name']\n"
     ]
    }
   ],
   "source": [
    "with open(csvFilePath, mode='r', newline='', encoding='utf-8') as csvFile:\n",
    "    reader = csv.reader(csvFile, delimiter=',')\n",
    "    print(next(reader))\n",
    "    \n",
    "# mode='r', we are reading only\n",
    "# new lines are interpreted correctly\n",
    "# specify character encoding, may need 'utf-8-sig'"
   ]
  },
  {
   "cell_type": "code",
   "execution_count": 12,
   "id": "63758664-8b13-4547-be9b-86aec645ebb7",
   "metadata": {},
   "outputs": [
    {
     "name": "stdout",
     "output_type": "stream",
     "text": [
      "['Joe']\n"
     ]
    }
   ],
   "source": [
    "with open(csvFilePath, mode='r', newline='', encoding='utf-8') as csvFile:\n",
    "    reader = csv.reader(csvFile, delimiter=',')\n",
    "    header = next(reader)\n",
    "    print(next(reader))"
   ]
  },
  {
   "cell_type": "code",
   "execution_count": 14,
   "id": "4a2a3201-d838-4bc3-81b9-b5c889d38b02",
   "metadata": {},
   "outputs": [
    {
     "name": "stdout",
     "output_type": "stream",
     "text": [
      "['Joe']\n",
      "['Jihuan']\n"
     ]
    }
   ],
   "source": [
    "with open(csvFilePath, mode='r', newline='', encoding='utf-8') as csvFile:\n",
    "    reader = csv.reader(csvFile, delimiter=',')\n",
    "    header = next(reader)\n",
    "    print(next(reader))\n",
    "    print(next(reader))"
   ]
  },
  {
   "cell_type": "code",
   "execution_count": 19,
   "id": "3f112c9e-e10c-44be-9a98-14068e831b02",
   "metadata": {},
   "outputs": [
    {
     "name": "stdout",
     "output_type": "stream",
     "text": [
      "['Joe']\n",
      "{'name': 'Joe'}\n",
      "['Jihuan']\n",
      "{'name': 'Jihuan'}\n",
      "['Ali']\n",
      "{'name': 'Ali'}\n",
      "['Frances']\n",
      "{'name': 'Frances'}\n",
      "['Daniela V']\n",
      "{'name': 'Daniela V'}\n",
      "['Mostafa']\n",
      "{'name': 'Mostafa'}\n",
      "['Daniela P']\n",
      "{'name': 'Daniela P'}\n",
      "['Cesar']\n",
      "{'name': 'Cesar'}\n",
      "['Jarrod']\n",
      "{'name': 'Jarrod'}\n",
      "['Austin']\n",
      "{'name': 'Austin'}\n",
      "['Jack']\n",
      "{'name': 'Jack'}\n",
      "['Ala']\n",
      "{'name': 'Ala'}\n",
      "['Sergii']\n",
      "{'name': 'Sergii'}\n",
      "['Miles']\n",
      "{'name': 'Miles'}\n",
      "['Hyeyun']\n",
      "{'name': 'Hyeyun'}\n",
      "['Volodymyr']\n",
      "{'name': 'Volodymyr'}\n",
      "['Yijia']\n",
      "{'name': 'Yijia'}\n",
      "['Hsin-Yun']\n",
      "{'name': 'Hsin-Yun'}\n",
      "['Renata']\n",
      "{'name': 'Renata'}\n",
      "['Max']\n",
      "{'name': 'Max'}\n",
      "['Joshua']\n",
      "{'name': 'Joshua'}\n",
      "['David']\n",
      "{'name': 'David'}\n"
     ]
    }
   ],
   "source": [
    "with open(csvFilePath, mode='r', newline='', encoding='utf-8') as csvFile:\n",
    "    reader = csv.reader(csvFile, delimiter=',')\n",
    "    header = next(reader)\n",
    "    roster = []\n",
    "    for row in reader:\n",
    "        print(row)\n",
    "        temp = {'name': row[0]}\n",
    "        print(temp)"
   ]
  },
  {
   "cell_type": "code",
   "execution_count": 23,
   "id": "ca2e0ab1-69a2-4700-a5a5-eacd935afbe3",
   "metadata": {},
   "outputs": [
    {
     "name": "stdout",
     "output_type": "stream",
     "text": [
      "[{'name': 'Joe'}, {'name': 'Jihuan'}, {'name': 'Ali'}, {'name': 'Frances'}, {'name': 'Daniela V'}, {'name': 'Mostafa'}, {'name': 'Daniela P'}, {'name': 'Cesar'}, {'name': 'Jarrod'}, {'name': 'Austin'}, {'name': 'Jack'}, {'name': 'Ala'}, {'name': 'Sergii'}, {'name': 'Miles'}, {'name': 'Hyeyun'}, {'name': 'Volodymyr'}, {'name': 'Yijia'}, {'name': 'Hsin-Yun'}, {'name': 'Renata'}, {'name': 'Max'}, {'name': 'Joshua'}, {'name': 'David'}]\n"
     ]
    }
   ],
   "source": [
    "with open(csvFilePath, mode='r', newline='', encoding='utf-8') as csvFile:\n",
    "    reader = csv.reader(csvFile, delimiter=',')\n",
    "    header = next(reader)\n",
    "    roster = []\n",
    "    for row in reader:\n",
    "        temp = {'name': row[0]}\n",
    "        roster.append(temp)\n",
    "    print(roster)"
   ]
  },
  {
   "cell_type": "markdown",
   "id": "82d82d83-b95c-4af6-86d1-92fbee780ad8",
   "metadata": {},
   "source": [
    "### Modifying the Data"
   ]
  },
  {
   "cell_type": "code",
   "execution_count": 26,
   "id": "074ddaa8-c8fc-4c25-b651-cc4ea3dda7c3",
   "metadata": {},
   "outputs": [
    {
     "name": "stdout",
     "output_type": "stream",
     "text": [
      "[{'name': 'Joe'}, {'name': 'Jihuan'}, {'name': 'Ali'}, {'name': 'Frances'}, {'name': 'Daniela V'}, {'name': 'Mostafa'}, {'name': 'Daniela P'}, {'name': 'Cesar'}, {'name': 'Jarrod'}, {'name': 'Austin'}, {'name': 'Jack'}, {'name': 'Ala'}, {'name': 'Sergii'}, {'name': 'Miles'}, {'name': 'Hyeyun'}, {'name': 'Volodymyr'}, {'name': 'Yijia'}, {'name': 'Hsin-Yun'}, {'name': 'Renata'}, {'name': 'Max'}, {'name': 'Joshua'}, {'name': 'David'}, {'name': 'Wally'}, {'name': 'Wally'}]\n"
     ]
    }
   ],
   "source": [
    "## Add someone who is missing\n",
    "roster.append({'name': 'Wally'})\n",
    "print(roster)"
   ]
  },
  {
   "cell_type": "markdown",
   "id": "362ca553-3268-4abb-b926-3ba2de30fae1",
   "metadata": {},
   "source": [
    "### Assign grades to roster"
   ]
  },
  {
   "cell_type": "code",
   "execution_count": 28,
   "id": "2cac651f-eb3b-491f-ac2e-47d727ace51e",
   "metadata": {},
   "outputs": [],
   "source": [
    "random.seed(1)"
   ]
  },
  {
   "cell_type": "code",
   "execution_count": null,
   "id": "1fe79c7e-fa23-45c9-999e-8cf34786c7f8",
   "metadata": {},
   "outputs": [],
   "source": [
    "for i in roster\n",
    "    student['grade'] = random.int"
   ]
  },
  {
   "cell_type": "code",
   "execution_count": 29,
   "id": "28b08d07-a2c2-4d1e-8a14-13e8dcc41834",
   "metadata": {},
   "outputs": [],
   "source": [
    "def compute_mean(values):\n",
    "    n = len(values)\n",
    "    result = sum(values)/n\n",
    "    return result"
   ]
  },
  {
   "cell_type": "code",
   "execution_count": null,
   "id": "abeb8291-42b0-4773-968f-f61abf0b8956",
   "metadata": {},
   "outputs": [],
   "source": [
    "grades = []\n",
    "for student in roster:\n",
    "    grade = student['grade']\n",
    "    grades.append(grade)\n",
    "    \n",
    "print(grades)"
   ]
  },
  {
   "cell_type": "code",
   "execution_count": null,
   "id": "2ed37e66-48d0-4896-9bbb-3d664e20f8e0",
   "metadata": {},
   "outputs": [],
   "source": [
    "mean = compute_mean(grades)\n",
    "print(mean)"
   ]
  },
  {
   "cell_type": "markdown",
   "id": "8a68e08e-4edd-40c5-bf1b-9925bfe88ac9",
   "metadata": {},
   "source": [
    "### Edit a specific row/student"
   ]
  },
  {
   "cell_type": "code",
   "execution_count": 30,
   "id": "d5aeb05c-f76b-4051-b249-ab082149c544",
   "metadata": {},
   "outputs": [],
   "source": [
    "for student in roster:\n",
    "    if student['name'] == 'Daniela P':\n",
    "        student['grade'] = 100"
   ]
  },
  {
   "cell_type": "code",
   "execution_count": null,
   "id": "57b9689c-23e8-439d-a8a9-86909c79c0bd",
   "metadata": {},
   "outputs": [],
   "source": [
    "for student in roster:\n",
    "    if student['grade'] < 50:\n",
    "        student['grade'] = student['grade'] + 40\n",
    "    print(student)"
   ]
  },
  {
   "cell_type": "code",
   "execution_count": null,
   "id": "5053c6a9-c10d-4a5b-88ff-a90ccecb938e",
   "metadata": {},
   "outputs": [],
   "source": [
    "# list comprehensions\n",
    "grades = [student['grade'] for student in roster]\n",
    "print(grades)"
   ]
  },
  {
   "cell_type": "code",
   "execution_count": null,
   "id": "9a42daaf-945f-44cb-967e-1c396fcaf192",
   "metadata": {},
   "outputs": [],
   "source": [
    "average = compute_mean(grades)\n",
    "print(average)"
   ]
  }
 ],
 "metadata": {
  "kernelspec": {
   "display_name": "Python 3 (ipykernel)",
   "language": "python",
   "name": "python3"
  },
  "language_info": {
   "codemirror_mode": {
    "name": "ipython",
    "version": 3
   },
   "file_extension": ".py",
   "mimetype": "text/x-python",
   "name": "python",
   "nbconvert_exporter": "python",
   "pygments_lexer": "ipython3",
   "version": "3.9.5"
  }
 },
 "nbformat": 4,
 "nbformat_minor": 5
}
